{
 "cells": [
  {
   "cell_type": "code",
   "execution_count": 1,
   "metadata": {},
   "outputs": [],
   "source": [
    "# NO SSL in here! We are hear to learn more about the cryptography package.\n",
    "#  import ssl\n",
    "from cryptography import x509"
   ]
  },
  {
   "cell_type": "code",
   "execution_count": 2,
   "metadata": {},
   "outputs": [],
   "source": [
    "CERTIFICATE = './certificate/github-com-chain.pem'"
   ]
  },
  {
   "cell_type": "code",
   "execution_count": 3,
   "metadata": {},
   "outputs": [
    {
     "data": {
      "text/plain": [
       "[<Certificate(subject=<Name(CN=github.com)>, ...)>,\n",
       " <Certificate(subject=<Name(C=GB,ST=Greater Manchester,L=Salford,O=Sectigo Limited,CN=Sectigo ECC Domain Validation Secure Server CA)>, ...)>,\n",
       " <Certificate(subject=<Name(C=US,ST=New Jersey,L=Jersey City,O=The USERTRUST Network,CN=USERTrust ECC Certification Authority)>, ...)>]"
      ]
     },
     "execution_count": 3,
     "metadata": {},
     "output_type": "execute_result"
    }
   ],
   "source": [
    "with open(CERTIFICATE, 'rb') as f:\n",
    "    data = f.read()\n",
    "\n",
    "certificate_chain = x509.load_pem_x509_certificates(data)\n",
    "certificate_chain"
   ]
  },
  {
   "cell_type": "code",
   "execution_count": 4,
   "metadata": {},
   "outputs": [
    {
     "data": {
      "text/plain": [
       "(<Version.v3: 2>,\n",
       " 103892495973767669722220901035501109925,\n",
       " datetime.datetime(2024, 3, 7, 0, 0, tzinfo=datetime.timezone.utc),\n",
       " datetime.datetime(2025, 3, 7, 23, 59, 59, tzinfo=datetime.timezone.utc),\n",
       " <Name(CN=github.com)>,\n",
       " <Name(C=GB,ST=Greater Manchester,L=Salford,O=Sectigo Limited,CN=Sectigo ECC Domain Validation Secure Server CA)>,\n",
       " <cryptography.hazmat.primitives.hashes.SHA256 at 0x2d6c132d340>,\n",
       " <ObjectIdentifier(oid=1.2.840.10045.4.3.2, name=ecdsa-with-SHA256)>,\n",
       " <cryptography.hazmat.primitives.asymmetric.ec.ECDSA at 0x2d6c1358080>,\n",
       " b'0E\\x02!\\x00\\xae\\xed\\x8cp\\xfa\\xf4x\\xdc\\x1cX\\xdb\\x83\\x11\\x8d\\x1a\\xfe\\xb1\\xb3]\\x17\\xd1\\xaeo\\xba]\\xf6^K8Xe\\xec\\x02 \\x1a\\xb8MA\\x01\\n\\x06\\xa9\\xbf\\xbco\\x02\\xd4JuWb\\xfd\\xbe&\\xdf\\xa52z=`\\x83\"l\\x89\\xeb\\x00',\n",
       " b'0\\x82\\x04I\\xa0\\x03\\x02\\x01\\x02\\x02\\x10N(\\xf7\\x86\\xb6l\\x1a;\\x94,\\xd2\\xc4\\x0e\\xb7B\\xa50\\n\\x06\\x08*\\x86H\\xce=\\x04\\x03\\x020\\x81\\x8f1\\x0b0\\t\\x06\\x03U\\x04\\x06\\x13\\x02GB1\\x1b0\\x19\\x06\\x03U\\x04\\x08\\x13\\x12Greater Manchester1\\x100\\x0e\\x06\\x03U\\x04\\x07\\x13\\x07Salford1\\x180\\x16\\x06\\x03U\\x04\\n\\x13\\x0fSectigo Limited1705\\x06\\x03U\\x04\\x03\\x13.Sectigo ECC Domain Validation Secure Server CA0\\x1e\\x17\\r240307000000Z\\x17\\r250307235959Z0\\x151\\x130\\x11\\x06\\x03U\\x04\\x03\\x13\\ngithub.com0Y0\\x13\\x06\\x07*\\x86H\\xce=\\x02\\x01\\x06\\x08*\\x86H\\xce=\\x03\\x01\\x07\\x03B\\x00\\x04\\x04N\\xfcz=]\\xd9\\x18\\xd6\\xa8}\\x98\\x08#9I\\x16\\x99t\\xdb\\xd3\\x98\\xe0F\\xe9Jr#\\x15\\x06\\xe2\\x81\\xdd\\x91\\xde\\xc6\\xf0\\x9d\\xca\\x88\\x82Dq\\x0c\\x05\\xf1W\\xa1\\x98V\\x91\\x05L\\xa2\\x03K\\xa3\\xf9V\\xdb^W\\xde\\x91\\xa3\\x82\\x02\\xfe0\\x82\\x02\\xfa0\\x1f\\x06\\x03U\\x1d#\\x04\\x180\\x16\\x80\\x14\\xf6\\x85\\n;\\x11\\x86\\xe1\\x04}\\x0e\\xaa\\x0b,\\xd2\\xee\\xccd{{\\xae0\\x1d\\x06\\x03U\\x1d\\x0e\\x04\\x16\\x04\\x14;h?4:\\xf5G4\\xca\\xef\\xa6N=\\x9a\\xbd^nz\\xcc\\x9f0\\x0e\\x06\\x03U\\x1d\\x0f\\x01\\x01\\xff\\x04\\x04\\x03\\x02\\x07\\x800\\x0c\\x06\\x03U\\x1d\\x13\\x01\\x01\\xff\\x04\\x020\\x000\\x1d\\x06\\x03U\\x1d%\\x04\\x160\\x14\\x06\\x08+\\x06\\x01\\x05\\x05\\x07\\x03\\x01\\x06\\x08+\\x06\\x01\\x05\\x05\\x07\\x03\\x020I\\x06\\x03U\\x1d \\x04B0@04\\x06\\x0b+\\x06\\x01\\x04\\x01\\xb21\\x01\\x02\\x02\\x070%0#\\x06\\x08+\\x06\\x01\\x05\\x05\\x07\\x02\\x01\\x16\\x17https://sectigo.com/CPS0\\x08\\x06\\x06g\\x81\\x0c\\x01\\x02\\x010\\x81\\x84\\x06\\x08+\\x06\\x01\\x05\\x05\\x07\\x01\\x01\\x04x0v0O\\x06\\x08+\\x06\\x01\\x05\\x05\\x070\\x02\\x86Chttp://crt.sectigo.com/SectigoECCDomainValidationSecureServerCA.crt0#\\x06\\x08+\\x06\\x01\\x05\\x05\\x070\\x01\\x86\\x17http://ocsp.sectigo.com0\\x82\\x01\\x80\\x06\\n+\\x06\\x01\\x04\\x01\\xd6y\\x02\\x04\\x02\\x04\\x82\\x01p\\x04\\x82\\x01l\\x01j\\x00w\\x00\\xcf\\x11V\\xee\\xd5.|\\xaf\\xf3\\x87[\\xd9i.\\x9b\\xe9\\x1aqgJ\\xb0\\x17\\xec\\xac\\x01\\xd2[w\\xce\\xcc;\\x08\\x00\\x00\\x01\\x8e\\x16:\\xf0\\x19\\x00\\x00\\x04\\x03\\x00H0F\\x02!\\x00\\xfb\\xa0\\xdc\\xff\\xda\\x83\\xbcTf\\x96Z\\xba\\xab\\xb0\\x14\\x01\\xcd\\x01\\xf4\\x85\\x18L.mu\\xa1\\xe3)\\x83W\\xcdk\\x02!\\x00\\xa5\\x9c\\xd2\\xae\\xd9\\xfalCU\\x85\\x7f\\xea\\x8b\\xfb\\x7f\\xf8\\xb4\\x1f\\xf6\\x80pt\\x82\"/\\xd0%\\xc1\\x02\\xad\\xa3\\xa9\\x00v\\x00\\xa2\\xe3\\n\\xe4E\\xef\\xbd\\xad\\x9b~8\\xedGgwS\\xd7\\x82[\\x84\\x94\\xd7+^\\x1b,\\xc4\\xb9P\\xa4G\\xe7\\x00\\x00\\x01\\x8e\\x16:\\xef\\xf8\\x00\\x00\\x04\\x03\\x00G0E\\x02!\\x00\\xca\\xeaD!P\\x0c\\x93G<\\x05Ui\\x17D\\x1b\\x8a\\xc7\\xe8\\x13\\x0c\\xb9\\xc4\\x94\\n@\\xe7\\xbc\\x12\\xf3\\x14\\xe1o\\x02 `\\x08\"\\xec\\xe3\\xc4\\x11e\\x1e\\x99*r\\xc6\\xbbQ\\x9c\\xb6\\xe3/\\xc1\\xeb\\x16g\\x92\\xd50\\xfc\\xd7\\xb9\\xab\\x98B\\x00w\\x00Nu\\xa3\\'\\\\\\x9a\\x10\\xc38[l\\xd4\\xdf?R\\xeb\\x1d\\xf0\\xe0\\x8e\\x1b\\x8di\\xc0\\xb1\\xfad\\xb1b\\x9a9\\xdf\\x00\\x00\\x01\\x8e\\x16:\\xef\\xf7\\x00\\x00\\x04\\x03\\x00H0F\\x02!\\x00\\xfb\\xc3\\xafC:`E\\xfd\\xf5\\xb8\\xb0l\\x08O$\\xb4%\\x1f\\xbe\\xc8\\x91O\\xbc\\xd6J\\xa7\\x97\\x96 4\\xf55\\x02!\\x00\\xdc\\x07\\xb5\\xe7\\xf7\\xb6\\x84\\x0c\\xc0J\\\\\\x86\\xdd\\x9b\\x92\\x99\\xf4h\\xefG*\\x05\\xf6\\xc9\\x03\\xe7\\xfe\\x06\\x9d\\xea\\x0c[0%\\x06\\x03U\\x1d\\x11\\x04\\x1e0\\x1c\\x82\\ngithub.com\\x82\\x0ewww.github.com',\n",
       " b'0\\x82\\x02\\xc5\\xa0\\x03\\x02\\x01\\x02\\x02\\x10N(\\xf7\\x86\\xb6l\\x1a;\\x94,\\xd2\\xc4\\x0e\\xb7B\\xa50\\n\\x06\\x08*\\x86H\\xce=\\x04\\x03\\x020\\x81\\x8f1\\x0b0\\t\\x06\\x03U\\x04\\x06\\x13\\x02GB1\\x1b0\\x19\\x06\\x03U\\x04\\x08\\x13\\x12Greater Manchester1\\x100\\x0e\\x06\\x03U\\x04\\x07\\x13\\x07Salford1\\x180\\x16\\x06\\x03U\\x04\\n\\x13\\x0fSectigo Limited1705\\x06\\x03U\\x04\\x03\\x13.Sectigo ECC Domain Validation Secure Server CA0\\x1e\\x17\\r240307000000Z\\x17\\r250307235959Z0\\x151\\x130\\x11\\x06\\x03U\\x04\\x03\\x13\\ngithub.com0Y0\\x13\\x06\\x07*\\x86H\\xce=\\x02\\x01\\x06\\x08*\\x86H\\xce=\\x03\\x01\\x07\\x03B\\x00\\x04\\x04N\\xfcz=]\\xd9\\x18\\xd6\\xa8}\\x98\\x08#9I\\x16\\x99t\\xdb\\xd3\\x98\\xe0F\\xe9Jr#\\x15\\x06\\xe2\\x81\\xdd\\x91\\xde\\xc6\\xf0\\x9d\\xca\\x88\\x82Dq\\x0c\\x05\\xf1W\\xa1\\x98V\\x91\\x05L\\xa2\\x03K\\xa3\\xf9V\\xdb^W\\xde\\x91\\xa3\\x82\\x01z0\\x82\\x01v0\\x1f\\x06\\x03U\\x1d#\\x04\\x180\\x16\\x80\\x14\\xf6\\x85\\n;\\x11\\x86\\xe1\\x04}\\x0e\\xaa\\x0b,\\xd2\\xee\\xccd{{\\xae0\\x1d\\x06\\x03U\\x1d\\x0e\\x04\\x16\\x04\\x14;h?4:\\xf5G4\\xca\\xef\\xa6N=\\x9a\\xbd^nz\\xcc\\x9f0\\x0e\\x06\\x03U\\x1d\\x0f\\x01\\x01\\xff\\x04\\x04\\x03\\x02\\x07\\x800\\x0c\\x06\\x03U\\x1d\\x13\\x01\\x01\\xff\\x04\\x020\\x000\\x1d\\x06\\x03U\\x1d%\\x04\\x160\\x14\\x06\\x08+\\x06\\x01\\x05\\x05\\x07\\x03\\x01\\x06\\x08+\\x06\\x01\\x05\\x05\\x07\\x03\\x020I\\x06\\x03U\\x1d \\x04B0@04\\x06\\x0b+\\x06\\x01\\x04\\x01\\xb21\\x01\\x02\\x02\\x070%0#\\x06\\x08+\\x06\\x01\\x05\\x05\\x07\\x02\\x01\\x16\\x17https://sectigo.com/CPS0\\x08\\x06\\x06g\\x81\\x0c\\x01\\x02\\x010\\x81\\x84\\x06\\x08+\\x06\\x01\\x05\\x05\\x07\\x01\\x01\\x04x0v0O\\x06\\x08+\\x06\\x01\\x05\\x05\\x070\\x02\\x86Chttp://crt.sectigo.com/SectigoECCDomainValidationSecureServerCA.crt0#\\x06\\x08+\\x06\\x01\\x05\\x05\\x070\\x01\\x86\\x17http://ocsp.sectigo.com0%\\x06\\x03U\\x1d\\x11\\x04\\x1e0\\x1c\\x82\\ngithub.com\\x82\\x0ewww.github.com')"
      ]
     },
     "execution_count": 4,
     "metadata": {},
     "output_type": "execute_result"
    }
   ],
   "source": [
    "# gihub is the server CA. \n",
    "# Sectigo is a chained CA.\n",
    "# USERTrust is the root CA.\n",
    "GITHUB, SECTIGO, USERTRUST = 0, 1, 2\n",
    "git = certificate_chain[GITHUB]\n",
    "( \n",
    "    git.version, \n",
    "    git.serial_number, # A unique identifyer.\n",
    "    git.not_valid_before_utc,\n",
    "    git.not_valid_after_utc, \n",
    "    git.subject, # The subject is the current certificate.\n",
    "    git.issuer,  # The issuer is the parent in the chain.\n",
    "    git.signature_hash_algorithm, # The hash used to sign this certificate. Generally the issuer.\n",
    "    git.signature_algorithm_oid,\n",
    "    git.signature_algorithm_parameters,\n",
    "    git.signature,\n",
    "    git.tbs_certificate_bytes, # DER bytes playload, hashed and signed with the issuer's private key.\n",
    "    git.tbs_precertificate_bytes # A simplified hash that cannot be used to auth. It's a proof of submission.\n",
    ")\n"
   ]
  },
  {
   "cell_type": "code",
   "execution_count": 5,
   "metadata": {},
   "outputs": [
    {
     "data": {
      "text/plain": [
       "b'-----BEGIN CERTIFICATE-----\\nMIIEozCCBEmgAwIBAgIQTij3hrZsGjuULNLEDrdCpTAKBggqhkjOPQQDAjCBjzEL\\nMAkGA1UEBhMCR0IxGzAZBgNVBAgTEkdyZWF0ZXIgTWFuY2hlc3RlcjEQMA4GA1UE\\nBxMHU2FsZm9yZDEYMBYGA1UEChMPU2VjdGlnbyBMaW1pdGVkMTcwNQYDVQQDEy5T\\nZWN0aWdvIEVDQyBEb21haW4gVmFsaWRhdGlvbiBTZWN1cmUgU2VydmVyIENBMB4X\\nDTI0MDMwNzAwMDAwMFoXDTI1MDMwNzIzNTk1OVowFTETMBEGA1UEAxMKZ2l0aHVi\\nLmNvbTBZMBMGByqGSM49AgEGCCqGSM49AwEHA0IABARO/Ho9XdkY1qh9mAgjOUkW\\nmXTb05jgRulKciMVBuKB3ZHexvCdyoiCRHEMBfFXoZhWkQVMogNLo/lW215X3pGj\\nggL+MIIC+jAfBgNVHSMEGDAWgBT2hQo7EYbhBH0Oqgss0u7MZHt7rjAdBgNVHQ4E\\nFgQUO2g/NDr1RzTK76ZOPZq9Xm56zJ8wDgYDVR0PAQH/BAQDAgeAMAwGA1UdEwEB\\n/wQCMAAwHQYDVR0lBBYwFAYIKwYBBQUHAwEGCCsGAQUFBwMCMEkGA1UdIARCMEAw\\nNAYLKwYBBAGyMQECAgcwJTAjBggrBgEFBQcCARYXaHR0cHM6Ly9zZWN0aWdvLmNv\\nbS9DUFMwCAYGZ4EMAQIBMIGEBggrBgEFBQcBAQR4MHYwTwYIKwYBBQUHMAKGQ2h0\\ndHA6Ly9jcnQuc2VjdGlnby5jb20vU2VjdGlnb0VDQ0RvbWFpblZhbGlkYXRpb25T\\nZWN1cmVTZXJ2ZXJDQS5jcnQwIwYIKwYBBQUHMAGGF2h0dHA6Ly9vY3NwLnNlY3Rp\\nZ28uY29tMIIBgAYKKwYBBAHWeQIEAgSCAXAEggFsAWoAdwDPEVbu1S58r/OHW9lp\\nLpvpGnFnSrAX7KwB0lt3zsw7CAAAAY4WOvAZAAAEAwBIMEYCIQD7oNz/2oO8VGaW\\nWrqrsBQBzQH0hRhMLm11oeMpg1fNawIhAKWc0q7Z+mxDVYV/6ov7f/i0H/aAcHSC\\nIi/QJcECraOpAHYAouMK5EXvva2bfjjtR2d3U9eCW4SU1yteGyzEuVCkR+cAAAGO\\nFjrv+AAABAMARzBFAiEAyupEIVAMk0c8BVVpF0QbisfoEwy5xJQKQOe8EvMU4W8C\\nIGAIIuzjxBFlHpkqcsa7UZy24y/B6xZnktUw/Ne5q5hCAHcATnWjJ1yaEMM4W2zU\\n3z9S6x3w4I4bjWnAsfpksWKaOd8AAAGOFjrv9wAABAMASDBGAiEA+8OvQzpgRf31\\nuLBsCE8ktCUfvsiRT7zWSqeXliA09TUCIQDcB7Xn97aEDMBKXIbdm5KZ9GjvRyoF\\n9skD5/4GneoMWzAlBgNVHREEHjAcggpnaXRodWIuY29tgg53d3cuZ2l0aHViLmNv\\nbTAKBggqhkjOPQQDAgNIADBFAiEAru2McPr0eNwcWNuDEY0a/rGzXRfRrm+6XfZe\\nSzhYZewCIBq4TUEBCgapv7xvAtRKdVdi/b4m36Uyej1ggyJsiesA\\n-----END CERTIFICATE-----\\n'"
      ]
     },
     "execution_count": 5,
     "metadata": {},
     "output_type": "execute_result"
    }
   ],
   "source": [
    "# Public_bytes can be used to encode the certificate in DER or PEM.\n",
    "from cryptography.hazmat.primitives.serialization import Encoding\n",
    "git.public_bytes(encoding=Encoding.PEM)"
   ]
  },
  {
   "cell_type": "code",
   "execution_count": 6,
   "metadata": {},
   "outputs": [
    {
     "data": {
      "text/plain": [
       "[<Extension(oid=<ObjectIdentifier(oid=2.5.29.35, name=authorityKeyIdentifier)>, critical=False, value=<AuthorityKeyIdentifier(key_identifier=b'\\xf6\\x85\\n;\\x11\\x86\\xe1\\x04}\\x0e\\xaa\\x0b,\\xd2\\xee\\xccd{{\\xae', authority_cert_issuer=None, authority_cert_serial_number=None)>)>,\n",
       " <Extension(oid=<ObjectIdentifier(oid=2.5.29.14, name=subjectKeyIdentifier)>, critical=False, value=<SubjectKeyIdentifier(digest=b';h?4:\\xf5G4\\xca\\xef\\xa6N=\\x9a\\xbd^nz\\xcc\\x9f')>)>,\n",
       " <Extension(oid=<ObjectIdentifier(oid=2.5.29.15, name=keyUsage)>, critical=True, value=<KeyUsage(digital_signature=True, content_commitment=False, key_encipherment=False, data_encipherment=False, key_agreement=False, key_cert_sign=False, crl_sign=False, encipher_only=False, decipher_only=False)>)>,\n",
       " <Extension(oid=<ObjectIdentifier(oid=2.5.29.19, name=basicConstraints)>, critical=True, value=<BasicConstraints(ca=False, path_length=None)>)>,\n",
       " <Extension(oid=<ObjectIdentifier(oid=2.5.29.37, name=extendedKeyUsage)>, critical=False, value=<ExtendedKeyUsage([<ObjectIdentifier(oid=1.3.6.1.5.5.7.3.1, name=serverAuth)>, <ObjectIdentifier(oid=1.3.6.1.5.5.7.3.2, name=clientAuth)>])>)>,\n",
       " <Extension(oid=<ObjectIdentifier(oid=2.5.29.32, name=certificatePolicies)>, critical=False, value=<CertificatePolicies([<PolicyInformation(policy_identifier=<ObjectIdentifier(oid=1.3.6.1.4.1.6449.1.2.2.7, name=Unknown OID)>, policy_qualifiers=['https://sectigo.com/CPS'])>, <PolicyInformation(policy_identifier=<ObjectIdentifier(oid=2.23.140.1.2.1, name=Unknown OID)>, policy_qualifiers=None)>])>)>,\n",
       " <Extension(oid=<ObjectIdentifier(oid=1.3.6.1.5.5.7.1.1, name=authorityInfoAccess)>, critical=False, value=<AuthorityInformationAccess([<AccessDescription(access_method=<ObjectIdentifier(oid=1.3.6.1.5.5.7.48.2, name=caIssuers)>, access_location=<UniformResourceIdentifier(value='http://crt.sectigo.com/SectigoECCDomainValidationSecureServerCA.crt')>)>, <AccessDescription(access_method=<ObjectIdentifier(oid=1.3.6.1.5.5.7.48.1, name=OCSP)>, access_location=<UniformResourceIdentifier(value='http://ocsp.sectigo.com')>)>])>)>,\n",
       " <Extension(oid=<ObjectIdentifier(oid=1.3.6.1.4.1.11129.2.4.2, name=signedCertificateTimestampList)>, critical=False, value=<PrecertificateSignedCertificateTimestamps([<cryptography.hazmat.bindings._rust.x509.Sct object at 0x000002D6C1279590>, <cryptography.hazmat.bindings._rust.x509.Sct object at 0x000002D6C13D0150>, <cryptography.hazmat.bindings._rust.x509.Sct object at 0x000002D6C13D01E0>])>)>,\n",
       " <Extension(oid=<ObjectIdentifier(oid=2.5.29.17, name=subjectAltName)>, critical=False, value=<SubjectAlternativeName(<GeneralNames([<DNSName(value='github.com')>, <DNSName(value='www.github.com')>])>)>)>]"
      ]
     },
     "execution_count": 6,
     "metadata": {},
     "output_type": "execute_result"
    }
   ],
   "source": [
    "# There can only be one of each extension type i.e. authorityKeyIdentifier.\n",
    "[e for e in git.extensions]"
   ]
  },
  {
   "cell_type": "code",
   "execution_count": 7,
   "metadata": {},
   "outputs": [
    {
     "data": {
      "text/plain": [
       "(True,\n",
       " b'\\xfdn\\x9b\\x0e\\xf3\\x98\\xbc\\xd9\\x04\\xc3\\xb2\\xec\\x16z{\\x0f\\xdar\\x01\\xc9\\x03\\xc5:jj\\xe5\\xd0ACc\\xefe')"
      ]
     },
     "execution_count": 7,
     "metadata": {},
     "output_type": "execute_result"
    }
   ],
   "source": [
    "from cryptography.hazmat.primitives.asymmetric import ec\n",
    "# We don't need to guess the hashing algo, it's already saved in `c.signature_hash_algorithm`\n",
    "from cryptography.hazmat.primitives import hashes\n",
    "isinstance(git.public_key(), ec.EllipticCurvePublicKey), git.fingerprint(git.signature_hash_algorithm)"
   ]
  },
  {
   "cell_type": "code",
   "execution_count": 8,
   "metadata": {},
   "outputs": [
    {
     "data": {
      "text/plain": [
       "('isValid=', True)"
      ]
     },
     "execution_count": 8,
     "metadata": {},
     "output_type": "execute_result"
    }
   ],
   "source": [
    "# This test match the issuer name and ensure the certificate \n",
    "# is signed by the issuer's private key.\n",
    "sectigo = certificate_chain[SECTIGO]\n",
    "'isValid=', git.verify_directly_issued_by(sectigo) is None"
   ]
  },
  {
   "cell_type": "code",
   "execution_count": 9,
   "metadata": {},
   "outputs": [
    {
     "data": {
      "text/plain": [
       "('isValid=', True)"
      ]
     },
     "execution_count": 9,
     "metadata": {},
     "output_type": "execute_result"
    }
   ],
   "source": [
    "usertrust = certificate_chain[USERTRUST]\n",
    "'isValid=', sectigo.verify_directly_issued_by(usertrust) is None"
   ]
  },
  {
   "cell_type": "code",
   "execution_count": 10,
   "metadata": {},
   "outputs": [
    {
     "data": {
      "text/plain": [
       "('isValid=', True)"
      ]
     },
     "execution_count": 10,
     "metadata": {},
     "output_type": "execute_result"
    }
   ],
   "source": [
    "'isValid=', usertrust.verify_directly_issued_by(usertrust) is None"
   ]
  },
  {
   "cell_type": "code",
   "execution_count": 11,
   "metadata": {},
   "outputs": [
    {
     "data": {
      "text/plain": [
       "(<Name(C=US,ST=New Jersey,L=Jersey City,O=The USERTRUST Network,CN=USERTrust ECC Certification Authority)>,\n",
       " <Name(C=US,ST=New Jersey,L=Jersey City,O=The USERTRUST Network,CN=USERTrust ECC Certification Authority)>)"
      ]
     },
     "execution_count": 11,
     "metadata": {},
     "output_type": "execute_result"
    }
   ],
   "source": [
    "# Usertrust should have no issuer.\n",
    "# Therefore, it should be presented as its own issuer.\n",
    "usertrust.issuer, usertrust.subject"
   ]
  },
  {
   "cell_type": "code",
   "execution_count": 38,
   "metadata": {},
   "outputs": [
    {
     "name": "stdout",
     "output_type": "stream",
     "text": [
      "True\n",
      "True\n",
      "True\n"
     ]
    }
   ],
   "source": [
    "# Artemas - I like the way you kiss me.\n",
    "\n",
    "# A test to ensure the verification algorithm works as intended.\n",
    "# In this test, we manually modify the github-com-chain.pem file to figure out\n",
    "# if integrity triggers a tls exception.\n",
    "with open(CERTIFICATE, 'rb') as f:\n",
    "    data = f.read()\n",
    "\n",
    "cert_chain = x509.load_pem_x509_certificates(data)\n",
    "git, sec, usr = cert_chain[GITHUB], cert_chain[SECTIGO], cert_chain[USERTRUST]\n",
    "print(\n",
    "    git.verify_directly_issued_by(sec) is None,\n",
    "    sec.verify_directly_issued_by(usr) is None,\n",
    "    usr.verify_directly_issued_by(usr) is None,\n",
    "    sep='\\n')\n"
   ]
  },
  {
   "cell_type": "code",
   "execution_count": null,
   "metadata": {},
   "outputs": [],
   "source": []
  },
  {
   "cell_type": "code",
   "execution_count": null,
   "metadata": {},
   "outputs": [],
   "source": []
  }
 ],
 "metadata": {
  "kernelspec": {
   "display_name": "certificate-chain",
   "language": "python",
   "name": "python3"
  },
  "language_info": {
   "codemirror_mode": {
    "name": "ipython",
    "version": 3
   },
   "file_extension": ".py",
   "mimetype": "text/x-python",
   "name": "python",
   "nbconvert_exporter": "python",
   "pygments_lexer": "ipython3",
   "version": "3.12.3"
  }
 },
 "nbformat": 4,
 "nbformat_minor": 2
}
